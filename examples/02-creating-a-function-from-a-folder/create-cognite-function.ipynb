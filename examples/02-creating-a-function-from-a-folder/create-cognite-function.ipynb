{
 "cells": [
  {
   "cell_type": "markdown",
   "metadata": {},
   "source": [
    "# Creating a Cognite Function from a folder and scheduling it\n",
    "\n",
    "In certain situations it will be convenient to separate the functionality of a task into multiple python modules or files. In this example, we create a function from a folder containing these modules. We also look at how we can schedule our Cognite Function to run at regular intervals. \n",
    "\n",
    "## Requirements\n",
    "We will be using the [experimental Cognite SDK](https://cognite-sdk-experimental.readthedocs-hosted.com/en/latest/cognite.html#functions). \n",
    "To run this example, you first need to install this package:\n",
    "\n",
    "```\n",
    "pip install cognite-sdk-experimental\n",
    "```\n",
    "\n",
    "## Authentication\n",
    "\n",
    "In order to connect to CDF we will authenticate using Azure AD. There are several ways to do this, all of them outlined in the [Authenticate with Azure AD](https://docs.cognite.com/dev/guides/sdk/python/python_auth_oidc/) documentation. We will in this example use [**client credentials**](https://docs.cognite.com/dev/guides/sdk/python/python_auth_oidc/#authenticate-with-client-secret). There are pros and cons to each authentication method. Here we choose client-credentials due to little additional work needed to get up and running.\n",
    "\n",
    "This means that we need the following:\n",
    "\n",
    "1. A `token_client_id` and a `token_client_secret`;\n",
    "2. a `token_url` (can be inferred from the Azure tenant-ID); and finally,\n",
    "3. a list of `token_scopes` (can usually be inferred from the CDF cluster). "
   ]
  },
  {
   "cell_type": "markdown",
   "metadata": {},
   "source": [
    "We start by importing the experimental `CogniteClient` and log in by passing in the required credentials. We use `getpass` to avoid having to paste confidential information directly in the noteobok cell. "
   ]
  },
  {
   "cell_type": "code",
   "execution_count": null,
   "metadata": {
    "scrolled": true
   },
   "outputs": [],
   "source": [
    "from getpass import getpass\n",
    "from cognite.experimental import CogniteClient\n",
    "\n",
    "project = \"<CDF project>\"  # Fill in your project here\n",
    "cdf_cluster = \"<CDF cluster>\"  # Fill in the cluster your project is running in (for instance 'api'/'westeurope-1')\n",
    "\n",
    "tenant_id = \"<Tenant ID>\"  # Fill in your Azure AD tenant ID here\n",
    "token_client_id = \"<Token Client ID>\"  # Fill in your Client ID here\n",
    "token_client_secret = getpass(\"Paste your `token_client_secret` in here: \")\n",
    "\n",
    "token_url = f\"https://login.microsoftonline.com/{tenant_id}/oauth2/v2.0/token\"\n",
    "token_scopes = [f\"https://{cdf_cluster}.cognitedata.com/.default\"]\n",
    "\n",
    "client = CogniteClient(\n",
    "    project=project,\n",
    "    server=cdf_cluster,\n",
    "    client_name=\"my second Cognite Function\",\n",
    "    token_url=token_url,\n",
    "    token_scopes=token_scopes,\n",
    "    token_client_id=token_client_id,\n",
    "    token_client_secret=token_client_secret,\n",
    ")"
   ]
  },
  {
   "cell_type": "markdown",
   "metadata": {},
   "source": [
    "## Defining our function\n",
    "In this example we define a function in two python modules, a [handler.py](handler.py) which contains the main `handle` function and a [helper.py](helper.py) module. The latter module is called by the former to show how module dependencies can be used. The helper module is imported in the handler by writing `import helper` which we can do because it's contained in the same folder as the [handler.py](handler.py) module. \n",
    "\n",
    "Please note that:\n",
    "* The `handle` function in the file [handler.py](handler.py) must always be specified, since this is the entry point of the deployed function. The file `handler.py` must always be present in the root folder, unless otherwise specified via the optional `function_path` argument to `client.functions.create()`.\n",
    "* The `handle` function must have as arguments a subset of `(client, data, secrets, function_call_info)`. \n",
    "\n",
    "In this example we will only need the `data` argument. The data we give when calling the function, is passed through this argument."
   ]
  },
  {
   "cell_type": "markdown",
   "metadata": {},
   "source": [
    "## Testing the function locally\n",
    "Before we actually deploy the function to CDF, we can test it locally. First take a look at the two files [handler.py](handler.py) and [helper.py](helper.py), before you test the code."
   ]
  },
  {
   "cell_type": "code",
   "execution_count": null,
   "metadata": {},
   "outputs": [],
   "source": [
    "import handler\n",
    "\n",
    "handler.handle(data={\"value\": 2.0})"
   ]
  },
  {
   "cell_type": "markdown",
   "metadata": {},
   "source": [
    "## Deploying the function to CDF\n",
    "Next we deploy our function to CDF, by setting the argument `folder` to the relevant folder. At least one of the files in the folder must be named `handler.py` (unless otherwise specified, as explained in the previous section), and this file must have a function named `handle`, which is the function that will be executed in CDF."
   ]
  },
  {
   "cell_type": "markdown",
   "metadata": {},
   "source": [
    "First let's create a unique string as a function external id. "
   ]
  },
  {
   "cell_type": "code",
   "execution_count": null,
   "metadata": {
    "scrolled": true
   },
   "outputs": [],
   "source": [
    "fn_name = \"my-transformer-function\"\n",
    "external_id = \"my-transformer-function\""
   ]
  },
  {
   "cell_type": "markdown",
   "metadata": {},
   "source": [
    "We now create the function. We also optionally add a description and an owner. "
   ]
  },
  {
   "cell_type": "code",
   "execution_count": null,
   "metadata": {
    "scrolled": true
   },
   "outputs": [],
   "source": [
    "function = client.functions.create(\n",
    "    name=fn_name,\n",
    "    external_id=external_id,\n",
    "    folder=\".\",  # We will upload this directory\n",
    "    description=\"Square an input value\",\n",
    "    owner=\"Ola Normann\",\n",
    ")"
   ]
  },
  {
   "cell_type": "markdown",
   "metadata": {},
   "source": [
    "Next we can retrieve the function to see its status. It will start out as `Queued` and then go to `Deploying`. After a couple of minutes, the status will be `Ready`, and you can start to call your function. **NB:** All calls to the function before the function is `Ready` will fail."
   ]
  },
  {
   "cell_type": "code",
   "execution_count": null,
   "metadata": {
    "scrolled": true
   },
   "outputs": [],
   "source": [
    "# Repeat until status is ready\n",
    "while function.status != \"Ready\":\n",
    "    function.update()\n",
    "\n",
    "    if function.status == \"Failed\":\n",
    "        print(\"Failed to deploy function\")\n",
    "        break\n",
    "else:\n",
    "    print(\"Function is successfully deployed\")"
   ]
  },
  {
   "cell_type": "markdown",
   "metadata": {},
   "source": [
    "When the function is `Ready`, we can call it directly on the function object."
   ]
  },
  {
   "cell_type": "code",
   "execution_count": null,
   "metadata": {
    "scrolled": true
   },
   "outputs": [],
   "source": [
    "call = function.call(data={\"value\": 2})\n",
    "call"
   ]
  },
  {
   "cell_type": "markdown",
   "metadata": {},
   "source": [
    "Note that the above calls are to the function in CDF, not the local function.\n",
    "\n",
    "To retrieve the response from the function, simply invoke the `get_response()` method on the call object:"
   ]
  },
  {
   "cell_type": "code",
   "execution_count": null,
   "metadata": {},
   "outputs": [],
   "source": [
    "response = call.get_response()\n",
    "response"
   ]
  },
  {
   "cell_type": "markdown",
   "metadata": {},
   "source": [
    "## Handling failures\n",
    "If you get a failure you can look at the logs"
   ]
  },
  {
   "cell_type": "code",
   "execution_count": null,
   "metadata": {},
   "outputs": [],
   "source": [
    "call_bad = function.call(data={\"foo\": 2})\n",
    "call_bad"
   ]
  },
  {
   "cell_type": "code",
   "execution_count": null,
   "metadata": {},
   "outputs": [],
   "source": [
    "call_bad.get_logs()"
   ]
  },
  {
   "cell_type": "code",
   "execution_count": null,
   "metadata": {},
   "outputs": [],
   "source": [
    "call_bad.get_logs()[-2:]  # Here we see the error"
   ]
  },
  {
   "cell_type": "markdown",
   "metadata": {},
   "source": [
    "### Schedules"
   ]
  },
  {
   "cell_type": "markdown",
   "metadata": {},
   "source": [
    "Schedules are objects that make the functions run at pre-defined intervals. For example, we can run a function every Monday at 7am or every other friday, etc. A schedule is defined with an associated function id and some input data. The interval syntax we use is called unix cron syntax, which is a string that contains the necessary information to decode a wide variety of running intervals. More information about cron syntax can be found here: https://crontab.guru.\n",
    "\n",
    "Below is an example of a schedule that runs every minute on our defined function. Note that we can define multiple schedules on each function, each one with different input data.\n",
    "\n",
    "In order to define a schedule we need to also pass in a set of client credentials. In this example, we will for simplicity use the client credentials we used when instantiating the client. However, in production settings you should use a dedicated set of credentials. "
   ]
  },
  {
   "cell_type": "code",
   "execution_count": null,
   "metadata": {},
   "outputs": [],
   "source": [
    "client_credentials = {\n",
    "    \"client_id\": token_client_id,\n",
    "    \"client_secret\": token_client_secret,\n",
    "}\n",
    "schedule = client.functions.schedules.create(\n",
    "    name=\"run-function-every-minute\",\n",
    "    cron_expression=\"* * * * *\",  # the cron expression runs every minutes\n",
    "    function_id=function.id,  # we specify the ID of the function we want to schedule\n",
    "    client_credentials=client_credentials,  # this is a dictionary with 'client_secret' and 'client_id'\n",
    "    data={\"value\": 2},  # this is the data we wish to call the function with\n",
    "    description=\"This schedule runs the function every minute\",\n",
    ")"
   ]
  },
  {
   "cell_type": "markdown",
   "metadata": {},
   "source": [
    "## List calls\n",
    "We can list all calls that have been made to the function:"
   ]
  },
  {
   "cell_type": "code",
   "execution_count": null,
   "metadata": {
    "scrolled": true
   },
   "outputs": [],
   "source": [
    "calls = function.list_calls()\n",
    "calls"
   ]
  },
  {
   "cell_type": "code",
   "execution_count": null,
   "metadata": {},
   "outputs": [],
   "source": [
    "# Get the response of the last function call\n",
    "calls[-1].get_response()"
   ]
  },
  {
   "cell_type": "markdown",
   "metadata": {},
   "source": [
    "## Cleanup\n",
    "Finally, we clean after ourselves by deleting our function and associated schedule."
   ]
  },
  {
   "cell_type": "code",
   "execution_count": null,
   "metadata": {},
   "outputs": [],
   "source": [
    "client.functions.delete(id=function.id)"
   ]
  }
 ],
 "metadata": {
  "kernelspec": {
   "display_name": "Python 3.10.5 64-bit",
   "language": "python",
   "name": "python3"
  },
  "language_info": {
   "codemirror_mode": {
    "name": "ipython",
    "version": 3
   },
   "file_extension": ".py",
   "mimetype": "text/x-python",
   "name": "python",
   "nbconvert_exporter": "python",
   "pygments_lexer": "ipython3",
   "version": "3.10.5"
  },
  "vscode": {
   "interpreter": {
    "hash": "aee8b7b246df8f9039afb4144a1f6fd8d2ca17a180786b69acc140d282b71a49"
   }
  }
 },
 "nbformat": 4,
 "nbformat_minor": 4
}

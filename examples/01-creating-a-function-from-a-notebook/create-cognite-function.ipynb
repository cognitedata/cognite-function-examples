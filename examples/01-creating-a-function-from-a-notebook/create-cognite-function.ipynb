{
 "cells": [
  {
   "cell_type": "markdown",
   "id": "6f824162-0ebf-4ca5-bff4-23ad200104d3",
   "metadata": {
    "tags": []
   },
   "source": [
    "# Creating a Cognite Function directly from a notebook\n",
    "\n",
    "In this notebook we showcase how we can use the Cognite Python SDK to create a Cognite Function directly from a notebook cell. We create a Cognite Function that takes as input the numerical ID of a Cognite Asset and then prints and returns the corresponding asset-name. \n",
    "\n",
    "## Requirements\n",
    "We will be using the [experimental cognite SDK](https://cognite-sdk-experimental.readthedocs-hosted.com/en/latest/cognite.html#functions). \n",
    "To run this example, you first need to install this package:\n",
    "\n",
    "```\n",
    "pip install cognite-sdk-experimental\n",
    "```\n",
    "\n",
    "We will also be needing at least one asset in your CDF project. \n",
    "\n",
    "## Authentication\n",
    "\n",
    "In order to connect to CDF we will authenticate using Azure AD. There are several ways to do this, all of them outlined in the [Authenticate with Azure AD](https://docs.cognite.com/dev/guides/sdk/python/python_auth_oidc/) documentation. We will in this example use [**client credentials**](https://docs.cognite.com/dev/guides/sdk/python/python_auth_oidc/#authenticate-with-client-secret). There are pros and cons to each authentication method. Here we choose client-credentials due to little additional work needed to get up and running.\n",
    "\n",
    "This means that we need the following:\n",
    "\n",
    "1. A `token_client_id` and a `token_client_secret`;\n",
    "2. a `token_url` (can be inferred from the Azure tenant-ID); and finally,\n",
    "3. a list of `token_scopes` (can usually be inferred from the CDF cluster). \n"
   ]
  },
  {
   "cell_type": "markdown",
   "id": "9ee9d762-2364-4207-b49d-e3c8e2605b45",
   "metadata": {
    "tags": []
   },
   "source": [
    "## Setup\n",
    "\n",
    "We start by importing the experimental `CogniteClient` and log in by passing in the required credentials. We use `getpass` to avoid having to paste confidential information directly in the noteobok cell. "
   ]
  },
  {
   "cell_type": "code",
   "execution_count": null,
   "id": "a64f2664-f214-4e47-8a3c-6ff840d78e85",
   "metadata": {},
   "outputs": [],
   "source": [
    "from getpass import getpass\n",
    "from cognite.experimental import CogniteClient\n",
    "\n",
    "project = \"<CDF project>\"      # Fill in your project here\n",
    "cdf_cluster  = \"<CDF cluster>\" # Fill in the cluster your project is running in (for instance 'api'/'westeurope-1')\n",
    "\n",
    "tenant_id           = \"<Tenant ID>\"       # Fill in your Azure AD tenant ID here\n",
    "token_client_id     = \"<Token Client ID>\" # Fill in your Client ID here\n",
    "token_client_secret = getpass(\"Paste your `token_client_secret` in here: \")\n",
    "\n",
    "\n",
    "client = CogniteClient(\n",
    "    project = project,\n",
    "    server  = cdf_cluster,\n",
    "    client_name = \"my first cognite function\",\n",
    "    token_url = token_url,\n",
    "    token_scopes = token_scopes,\n",
    "    token_client_id = token_client_id,\n",
    "    token_client_secret = token_client_secret,\n",
    ")"
   ]
  },
  {
   "cell_type": "markdown",
   "id": "1b839790-c15f-4b62-ab75-6db36cf8c2a1",
   "metadata": {
    "tags": []
   },
   "source": [
    "If you have no assets in your project, you can create some using the below code-snippet. We will need at least one asset for our function example. "
   ]
  },
  {
   "cell_type": "code",
   "execution_count": null,
   "id": "0b884fd3-a880-4f81-a5e0-1a7d2fbab260",
   "metadata": {},
   "outputs": [],
   "source": [
    "# If you have no assets in your CDF project but would like to add some for this example, run this cell.\n",
    "if len(client.assets.list()) == 0:\n",
    "    from cognite.client.data_classes import Asset\n",
    "    \n",
    "    client.assets.create([Asset(name=\"my_first_asset\"), Asset(name=\"my_second_asset\")])"
   ]
  },
  {
   "cell_type": "markdown",
   "id": "8f1b4ff6-1d63-4baa-b7b3-c0937f02f20e",
   "metadata": {},
   "source": [
    "If we want to verify whether we have logged in successfully, and what capabilites our credentials has, we can call `client.iam.token.inspect()`."
   ]
  },
  {
   "cell_type": "markdown",
   "id": "41bef998-c8cb-4817-9015-c0725734a4c7",
   "metadata": {
    "tags": []
   },
   "source": [
    "## Defining our function\n",
    "\n",
    "With an authenticated Cognite Client, we are now ready to define the Python function we would like to deploy as a Cognite Function. \n",
    "\n",
    "> Note the distinction between a *python function* (running locally) and a *Cognite Function* (a deployed Python function running directly in CDF). \n",
    "\n",
    "The Python function we would like to deploy **must** be named `handle`, and it can take a set of different arguments. The function arguments must be a subset of the following:\n",
    "\n",
    "1. `client`: By accepting `client` as a function argument, your Cognite Function receives a pre-instantiated `CogniteClient` at call-time. This `client` can be used to interact with CDF from within your function. We will use this to list assets in our example. \n",
    "\n",
    "2. `data`: By accepting `data` as a function argument, you can pass additional input data to your function at call-time. We will use this to pass the asset-number we would like the function to access. Note that `data` must be JSON-serializable. \n",
    "\n",
    "3. `secrets`: By accepting `secrets` as a function argument, you can get access to confidential values that was attached to the Cognite Function when deploying. We do not use this argument in this example.\n",
    "\n",
    "4. `function_call_info`. By accepting `function_call_info` we get access to some information pertaining to specific function-execution. We will not use this in this example. \n",
    "\n",
    "Below, we define our function-handle. Again, note that currently this is purely a Python function."
   ]
  },
  {
   "cell_type": "code",
   "execution_count": null,
   "id": "13258fce-1a0c-4aa7-90b5-0f0fc6e0530b",
   "metadata": {},
   "outputs": [],
   "source": [
    "def handle(client, data):\n",
    "    # We fetch the asset number from the data-dictionary.\n",
    "    asset_number = data[\"assetNo\"]\n",
    "    # We use the passed in client to list all assets in our CDF project.\n",
    "    all_assets = client.assets.list()\n",
    "    # We finally print the name of the selected asset, and return the name.\n",
    "    print(all_assets[asset_number].name)\n",
    "    return {\n",
    "        \"assetName\": all_assets[asset_number].name\n",
    "    }"
   ]
  },
  {
   "cell_type": "markdown",
   "id": "2ad5ea61-d91b-4c70-90bf-b3ccc17776d3",
   "metadata": {},
   "source": [
    "### Testing our function locally\n",
    "\n",
    "Before we deploy this Python-function as a Cognite Function, we can verify that it works locally by passing in our previously instantiated CogniteClient and a data-dictionary containing an asset-number. "
   ]
  },
  {
   "cell_type": "code",
   "execution_count": null,
   "id": "b9a86edc-3ea5-4da8-a482-27e717d41522",
   "metadata": {},
   "outputs": [],
   "source": [
    "handle(client, {\"assetNo\" : 1})"
   ]
  },
  {
   "cell_type": "markdown",
   "id": "7f1adb8d-dbaf-4b4d-8049-f0d9a96c0537",
   "metadata": {},
   "source": [
    "## Deploying the function to CDF as a Cognite Function\n",
    "\n",
    "We now deploy our `handle` function to CDF. We give the function a name and an external ID, and we reference the `handle`-function by using the `function_handle`-argument. When deploying, the function will have status `Queued`, then `Deploying`, and finally `Ready`. "
   ]
  },
  {
   "cell_type": "code",
   "execution_count": null,
   "id": "16129a61-68dc-4184-a944-f1e1cb420d3e",
   "metadata": {},
   "outputs": [],
   "source": [
    "fn_name = \"my first cognite function\"\n",
    "external_id = \"my_first_cognite_function\"\n",
    "\n",
    "function = client.functions.create(\n",
    "    name = fn_name,\n",
    "    external_id = external_id,\n",
    "    function_handle = handle\n",
    ")"
   ]
  },
  {
   "cell_type": "markdown",
   "id": "d20eb36f-9acd-4326-9962-b6e9b2a34cbf",
   "metadata": {},
   "source": [
    "We can run `.update()` and `.status` to get the current status of the function deployment. When it says `Ready` we are ready to call the function deployed in CDF. This usually takes between 3 and 5 minutes. "
   ]
  },
  {
   "cell_type": "code",
   "execution_count": null,
   "id": "4d90a9e9-4538-441b-881e-097d29b6cc13",
   "metadata": {
    "tags": []
   },
   "outputs": [],
   "source": [
    "function.update()\n",
    "function.status"
   ]
  },
  {
   "cell_type": "markdown",
   "id": "04b14833-bfb1-4c8e-a068-a3b7b9ed78ff",
   "metadata": {},
   "source": [
    "The function is now successfully deployed. We can now call it.\n",
    "\n",
    "## Calling the Cognite Function\n",
    "\n",
    "Since we have the `function`-object readily available, we can call the function directly by passing in some data. This creates a `call`-object, which we can use to fetch logs and response from the executed function. Note that the `call`-object itself does not carry the logs and responses. We have to explicitly fetch those."
   ]
  },
  {
   "cell_type": "code",
   "execution_count": null,
   "id": "5259b7e1-b403-4d58-8589-d31a10e6251b",
   "metadata": {},
   "outputs": [],
   "source": [
    "call = function.call(data={\"assetNo\": 0})\n",
    "call"
   ]
  },
  {
   "cell_type": "markdown",
   "id": "610cc306-9419-447f-b576-af57fb08ae5d",
   "metadata": {},
   "source": [
    "We view logs and responses:"
   ]
  },
  {
   "cell_type": "code",
   "execution_count": null,
   "id": "ec880999-19b1-4ee8-9a0d-44e24d09b60d",
   "metadata": {},
   "outputs": [],
   "source": [
    "call.get_response()"
   ]
  },
  {
   "cell_type": "code",
   "execution_count": null,
   "id": "3ae03e14-00d9-45fe-9124-c24d2891589a",
   "metadata": {},
   "outputs": [],
   "source": [
    "call.get_logs()"
   ]
  },
  {
   "cell_type": "code",
   "execution_count": null,
   "id": "24aeacfd-7484-4299-8266-a74aed906d5a",
   "metadata": {},
   "outputs": [],
   "source": []
  }
 ],
 "metadata": {
  "kernelspec": {
   "display_name": "Python 3 (ipykernel)",
   "language": "python",
   "name": "python3"
  },
  "language_info": {
   "codemirror_mode": {
    "name": "ipython",
    "version": 3
   },
   "file_extension": ".py",
   "mimetype": "text/x-python",
   "name": "python",
   "nbconvert_exporter": "python",
   "pygments_lexer": "ipython3",
   "version": "3.9.1"
  }
 },
 "nbformat": 4,
 "nbformat_minor": 5
}
